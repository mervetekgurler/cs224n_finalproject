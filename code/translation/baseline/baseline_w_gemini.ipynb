{
  "cells": [
    {
      "cell_type": "markdown",
      "metadata": {
        "id": "lZBFmCIJ5Z8C"
      },
      "source": [
        "# Set Up"
      ]
    },
    {
      "cell_type": "code",
      "execution_count": null,
      "metadata": {
        "id": "R2Kv84o1VFVm"
      },
      "outputs": [],
      "source": [
        "from urllib import request\n",
        "import os\n",
        "import re\n",
        "import pandas as pd\n",
        "import csv\n",
        "import numpy as np\n",
        "import time"
      ]
    },
    {
      "cell_type": "code",
      "execution_count": null,
      "metadata": {
        "colab": {
          "base_uri": "https://localhost:8080/"
        },
        "id": "jaCsbwxyVTkC",
        "outputId": "010ce23a-2191-4fdc-e308-df18ec27d08d"
      },
      "outputs": [
        {
          "output_type": "stream",
          "name": "stdout",
          "text": [
            "Drive already mounted at /content/drive; to attempt to forcibly remount, call drive.mount(\"/content/drive\", force_remount=True).\n"
          ]
        }
      ],
      "source": [
        "from google.colab import drive\n",
        "drive.mount('/content/drive')"
      ]
    },
    {
      "cell_type": "code",
      "execution_count": null,
      "metadata": {
        "id": "0aQMzfGoVZOR"
      },
      "outputs": [],
      "source": [
        "# Set your working directory to a folder in your Google Drive. This way, if your notebook times out,\n",
        "# your files will be saved in your Google Drive!\n",
        "\n",
        "# the base Google Drive directory\n",
        "root_dir = \"/content/drive/Shared drives/\"\n",
        "\n",
        "# choose where you want your project files to be saved\n",
        "project_folder = \"MS - Translation/Gemini/Testing for CS 224N\"\n",
        "\n",
        "def create_and_set_working_directory(project_folder):\n",
        "  # check if your project folder exists. if not, it will be created.\n",
        "  if os.path.isdir(root_dir + project_folder) == False:\n",
        "    os.mkdir(root_dir + project_folder)\n",
        "    print(root_dir + project_folder + ' did not exist but was created.')\n",
        "\n",
        "  # change the OS to use your project folder as the working directory\n",
        "  os.chdir(root_dir + project_folder)\n",
        "\n",
        "create_and_set_working_directory(project_folder)"
      ]
    },
    {
      "cell_type": "code",
      "execution_count": null,
      "metadata": {
        "id": "ChzTixE6ViY1"
      },
      "outputs": [],
      "source": [
        "!pip install -q -U google-generativeai"
      ]
    },
    {
      "cell_type": "code",
      "execution_count": null,
      "metadata": {
        "id": "txVI-sXhVvyh"
      },
      "outputs": [],
      "source": [
        "import pathlib\n",
        "import textwrap\n",
        "\n",
        "import google.generativeai as genai\n",
        "\n",
        "from IPython.display import display\n",
        "from IPython.display import Markdown\n",
        "\n",
        "\n",
        "def to_markdown(text):\n",
        "  text = text.replace('•', '  *')\n",
        "  return Markdown(textwrap.indent(text, '> ', predicate=lambda _: True))"
      ]
    },
    {
      "cell_type": "code",
      "execution_count": null,
      "metadata": {
        "id": "PGdsXeSlVzXD"
      },
      "outputs": [],
      "source": [
        "# Used to securely store your API key\n",
        "from google.colab import userdata"
      ]
    },
    {
      "cell_type": "code",
      "execution_count": null,
      "metadata": {
        "id": "ulFvCBKVV3SC"
      },
      "outputs": [],
      "source": [
        "# Or use `os.getenv('GOOGLE_API_KEY')` to fetch an environment variable.\n",
        "GOOGLE_API_KEY=userdata.get('GOOGLE_API_KEY')\n",
        "\n",
        "genai.configure(api_key=GOOGLE_API_KEY)"
      ]
    },
    {
      "cell_type": "code",
      "execution_count": null,
      "metadata": {
        "id": "x3N0Ib56211m"
      },
      "outputs": [],
      "source": [
        "for m in genai.list_models():\n",
        "  if 'generateContent' in m.supported_generation_methods:\n",
        "    print(m.name)"
      ]
    },
    {
      "cell_type": "code",
      "execution_count": null,
      "metadata": {
        "id": "ZXDOxnmWV5w0"
      },
      "outputs": [],
      "source": [
        "model = genai.GenerativeModel('gemini-1.0-pro-latest')"
      ]
    },
    {
      "cell_type": "code",
      "execution_count": null,
      "metadata": {
        "colab": {
          "base_uri": "https://localhost:8080/",
          "height": 54
        },
        "id": "-fds_DtdV_Fs",
        "outputId": "cdb27ed5-8e5c-410b-d0c6-3ec277219ca3"
      },
      "outputs": [
        {
          "output_type": "stream",
          "name": "stdout",
          "text": [
            "CPU times: user 50.7 ms, sys: 9.29 ms, total: 60 ms\n",
            "Wall time: 2.36 s\n"
          ]
        }
      ],
      "source": [
        "%%time\n",
        "response = model.generate_content(\"Translate this sentence into English: Allâhu ‘azîmü’ş-şân hazretleri kendü kullarını yokdan var edüb her kesin ‘ömrünü ve her ahvâlini kendü kudreti ile takdîr kılub gerek hayr u şer insanın başına ne gelürse Allâhu zü’l-celâlden bilinmelüdür.\")"
      ]
    },
    {
      "cell_type": "code",
      "execution_count": null,
      "metadata": {
        "colab": {
          "base_uri": "https://localhost:8080/",
          "height": 80
        },
        "id": "nxAI9ziwWIpJ",
        "outputId": "fc5a98d0-e96f-46db-97ff-016f8e1eaa6c"
      },
      "outputs": [
        {
          "output_type": "execute_result",
          "data": {
            "text/plain": [
              "<IPython.core.display.Markdown object>"
            ],
            "text/markdown": "> Allah, may His glory be glorified, created His servants from nothingness, decided the life and fate of every being with His power, whatever good and evil befalls a person must be known to be from Allah, the Possessor of Majesty."
          },
          "metadata": {},
          "execution_count": 11
        }
      ],
      "source": [
        "to_markdown(response.text)"
      ]
    },
    {
      "cell_type": "code",
      "execution_count": null,
      "metadata": {
        "id": "88GUF08S6Kyq"
      },
      "outputs": [],
      "source": [
        "!pip install sacrebleu\n",
        "from sacrebleu import corpus_bleu, corpus_chrf"
      ]
    },
    {
      "cell_type": "markdown",
      "metadata": {
        "id": "QnBTmuHf5GKI"
      },
      "source": [
        "# Baseline 1: With Safety Settings"
      ]
    },
    {
      "cell_type": "code",
      "execution_count": null,
      "metadata": {
        "id": "SxrnJooI6_7p"
      },
      "outputs": [],
      "source": [
        "def translate_and_evaluate(input_csv_path, output_csv_path, model):\n",
        "    original_sentences = []\n",
        "    translated_sentences = []\n",
        "    original_sentences_filtered = []\n",
        "    translated_sentences_filtered = []\n",
        "\n",
        "    with open(input_csv_path, 'r', encoding='utf-8') as read_file, open(output_csv_path, 'w', newline='', encoding='utf-8') as write_file:\n",
        "        csv_reader = csv.reader(read_file)\n",
        "        csv_writer = csv.writer(write_file)\n",
        "\n",
        "        counter = 0\n",
        "        for line in csv_reader:\n",
        "            print(counter)\n",
        "            input_sentence = line[0].strip()\n",
        "            if input_sentence:\n",
        "                full_prompt = \"Translate this sentence into English: \" + input_sentence\n",
        "                try:\n",
        "                    response = model.generate_content(full_prompt)\n",
        "                    output_text = response.text if response.text.strip() else ''\n",
        "                except (ValueError, AttributeError):\n",
        "                    output_text = ''\n",
        "\n",
        "                csv_writer.writerow([input_sentence, output_text if output_text else 'Translation not available'])\n",
        "\n",
        "                original_sentences.append(line[1].strip())  # second column is the reference translation\n",
        "                translated_sentences.append(output_text if output_text else '')\n",
        "\n",
        "                if output_text:\n",
        "                    original_sentences_filtered.append(line[1].strip())\n",
        "                    translated_sentences_filtered.append(output_text)\n",
        "            counter +=1\n",
        "\n",
        "    # Calculate BLEU and chrF scores for all translations, treating 'no translation' as an empty string\n",
        "    bleu_score_all = corpus_bleu(translated_sentences, [original_sentences]).score\n",
        "    chrf_score_all = corpus_chrf(translated_sentences, [original_sentences]).score\n",
        "\n",
        "    # Calculate BLEU and chrF scores for translations not labeled as 'Translation not available' (non-empty translations)\n",
        "    bleu_score_filtered = corpus_bleu(translated_sentences_filtered, [original_sentences_filtered]).score if translated_sentences_filtered else 0\n",
        "    chrf_score_filtered = corpus_chrf(translated_sentences_filtered, [original_sentences_filtered]).score if translated_sentences_filtered else 0\n",
        "\n",
        "    print(f\"All translations - BLEU score: {bleu_score_all}, chrF score: {chrf_score_all}\")\n",
        "    print(f\"Filtered (valid translations only) - BLEU score: {bleu_score_filtered}, chrF score: {chrf_score_filtered}\")\n",
        "\n",
        "    return (bleu_score_all, chrf_score_all), (bleu_score_filtered, chrf_score_filtered)\n",
        "\n",
        "\n"
      ]
    },
    {
      "cell_type": "code",
      "execution_count": null,
      "metadata": {
        "id": "MGMnt9uE5ebk"
      },
      "outputs": [],
      "source": [
        "translate_and_evaluate('test_manuscript.csv', 'gemini_manuscript.csv', model)"
      ]
    },
    {
      "cell_type": "markdown",
      "metadata": {
        "id": "OwZeZbPwEuT9"
      },
      "source": [
        "All translations - BLEU score: 8.86924897664771, chrF score: 36.546398551524575\n",
        "Filtered (valid translations only) - BLEU score: 9.057007633205238, chrF score: 39.55344621266212\n",
        "\n",
        "This took 16 mins\n",
        "\n",
        "((8.86924897664771, 36.546398551524575),\n",
        " (9.057007633205238, 39.55344621266212))"
      ]
    },
    {
      "cell_type": "code",
      "execution_count": null,
      "metadata": {
        "id": "RoVRc0TP5Kja"
      },
      "outputs": [],
      "source": [
        "translate_and_evaluate('test_novel.csv', 'gemini_novel.csv', model)"
      ]
    },
    {
      "cell_type": "markdown",
      "metadata": {
        "id": "XR5aZkZYZyXG"
      },
      "source": [
        "All translations - BLEU score: 10.831756727112259, chrF score: 34.69801347643916\n",
        "Filtered (valid translations only) - BLEU score: 10.967800690810428, chrF score: 37.25066779332506\n",
        "\n",
        "((10.831756727112259, 34.69801347643916),\n",
        " (10.967800690810428, 37.25066779332506))\n",
        "\n",
        " this took 1h 24m 30s\n"
      ]
    },
    {
      "cell_type": "code",
      "source": [
        "translate_and_evaluate('osmanaga_test.csv', 'gemini_osmanaga.csv', model)"
      ],
      "metadata": {
        "id": "sC-4VEVb0fIs"
      },
      "execution_count": null,
      "outputs": []
    },
    {
      "cell_type": "markdown",
      "source": [
        "All translations - BLEU score: 7.014749796735597, chrF score: 32.07414759239556\n",
        "Filtered (valid translations only) - BLEU score: 7.848205967855889, chrF score: 36.6151500479395\n",
        "\n",
        "((7.014749796735597, 32.07414759239556), (7.848205967855889, 36.6151500479395))\n",
        "\n",
        "This took 24 mins"
      ],
      "metadata": {
        "id": "yTi3ZQXI6ySg"
      }
    },
    {
      "cell_type": "markdown",
      "metadata": {
        "id": "9I80cNi65K-d"
      },
      "source": [
        "# Baseline 2: Without Safety Settings"
      ]
    },
    {
      "cell_type": "markdown",
      "metadata": {
        "id": "7922Po0GIGPY"
      },
      "source": [
        "See this guy's problem: https://www.googlecloudcommunity.com/gc/AI-ML/Gemini-Pro-for-the-same-prompt-sometimes-it-returns-a-response/td-p/703155"
      ]
    },
    {
      "cell_type": "code",
      "execution_count": null,
      "metadata": {
        "id": "gZ-ZDoBeD4SQ"
      },
      "outputs": [],
      "source": [
        "safety_settings = [\n",
        "                {\"category\": \"HARM_CATEGORY_HARASSMENT\", \"threshold\": 'block_none'},\n",
        "                {\"category\": \"HARM_CATEGORY_HATE_SPEECH\", \"threshold\": 'block_none'},\n",
        "                {\"category\": \"HARM_CATEGORY_SEXUALLY_EXPLICIT\", \"threshold\": 'block_none'},\n",
        "                {\"category\": \"HARM_CATEGORY_DANGEROUS_CONTENT\", \"threshold\": 'block_none'}\n",
        "            ]"
      ]
    },
    {
      "cell_type": "code",
      "execution_count": null,
      "metadata": {
        "id": "AmNhZJN3aOgo"
      },
      "outputs": [],
      "source": [
        "def translate_and_evaluate_no_safety(input_csv_path, output_csv_path, model):\n",
        "    original_sentences = []\n",
        "    translated_sentences = []\n",
        "    original_sentences_filtered = []\n",
        "    translated_sentences_filtered = []\n",
        "\n",
        "    with open(input_csv_path, 'r', encoding='utf-8') as read_file, open(output_csv_path, 'w', newline='', encoding='utf-8') as write_file:\n",
        "        csv_reader = csv.reader(read_file)\n",
        "        csv_writer = csv.writer(write_file)\n",
        "\n",
        "        counter = 0\n",
        "        for line in csv_reader:\n",
        "            print(counter)\n",
        "            input_sentence = line[0].strip()\n",
        "            if input_sentence:\n",
        "                full_prompt = \"Translate this sentence into English: \" + input_sentence\n",
        "                try:\n",
        "                    response = model.generate_content(full_prompt, safety_settings=safety_settings)\n",
        "                    output_text = response.text if response.text.strip() else ''\n",
        "                except (ValueError, AttributeError):\n",
        "                    output_text = ''\n",
        "\n",
        "                csv_writer.writerow([input_sentence, output_text if output_text else 'Translation not available'])\n",
        "\n",
        "                original_sentences.append(line[1].strip())  # second column is the reference translation\n",
        "                translated_sentences.append(output_text if output_text else '')\n",
        "\n",
        "                if output_text:\n",
        "                    original_sentences_filtered.append(line[1].strip())\n",
        "                    translated_sentences_filtered.append(output_text)\n",
        "            counter +=1\n",
        "\n",
        "    # Calculate BLEU and chrF scores for all translations, treating 'no translation' as an empty string\n",
        "    bleu_score_all = corpus_bleu(translated_sentences, [original_sentences]).score\n",
        "    chrf_score_all = corpus_chrf(translated_sentences, [original_sentences]).score\n",
        "\n",
        "    # Calculate BLEU and chrF scores for translations not labeled as 'Translation not available' (non-empty translations)\n",
        "    bleu_score_filtered = corpus_bleu(translated_sentences_filtered, [original_sentences_filtered]).score if translated_sentences_filtered else 0\n",
        "    chrf_score_filtered = corpus_chrf(translated_sentences_filtered, [original_sentences_filtered]).score if translated_sentences_filtered else 0\n",
        "\n",
        "    print(f\"All translations - BLEU score: {bleu_score_all}, chrF score: {chrf_score_all}\")\n",
        "    print(f\"Filtered (valid translations only) - BLEU score: {bleu_score_filtered}, chrF score: {chrf_score_filtered}\")\n",
        "\n",
        "    return (bleu_score_all, chrf_score_all), (bleu_score_filtered, chrf_score_filtered)\n",
        "\n"
      ]
    },
    {
      "cell_type": "code",
      "execution_count": null,
      "metadata": {
        "id": "onAfdobVEuQ4"
      },
      "outputs": [],
      "source": [
        "translate_and_evaluate_no_safety('test_manuscript.csv', 'gemini_manuscript_no_safety.csv', model)"
      ]
    },
    {
      "cell_type": "markdown",
      "metadata": {
        "id": "0jySWVjLfdtI"
      },
      "source": [
        "All translations - BLEU score: 9.040167708707436, chrF score: 38.9620815453946\n",
        "Filtered (valid translations only) - BLEU score: 9.040167708707436, chrF score: 39.044613686393944\n",
        "\n",
        "((9.040167708707436, 38.9620815453946),\n",
        " (9.040167708707436, 39.044613686393944))"
      ]
    },
    {
      "cell_type": "code",
      "execution_count": null,
      "metadata": {
        "id": "pTjUW9yQHuu8"
      },
      "outputs": [],
      "source": [
        "translate_and_evaluate_no_safety('test_novel.csv', 'gemini_novel_no_safety.csv', model)"
      ]
    },
    {
      "cell_type": "markdown",
      "source": [
        "All translations - BLEU score: 11.10913027990284, chrF score: 37.32569185362411\n",
        "Filtered (valid translations only) - BLEU score: 11.10913027990284, chrF score: 37.37718483075166\n",
        "\n",
        "((11.10913027990284, 37.32569185362411),\n",
        " (11.10913027990284, 37.37718483075166))\n",
        "\n",
        " This took 1h 50m 40s"
      ],
      "metadata": {
        "id": "OxlRwQPOA785"
      }
    },
    {
      "cell_type": "code",
      "source": [
        "translate_and_evaluate_no_safety('osmanaga_test.csv', 'gemini_osmanaga_no_safety.csv', model)"
      ],
      "metadata": {
        "id": "dD0kvkEZBDRz"
      },
      "execution_count": null,
      "outputs": []
    },
    {
      "cell_type": "markdown",
      "source": [
        "this was in two parts because of timeout. 56 + 7 mins"
      ],
      "metadata": {
        "id": "S4j2Hnp0JnlI"
      }
    },
    {
      "cell_type": "markdown",
      "source": [
        "All translations - BLEU score: 7.8421801129838675, chrF score: 36.40565274349136\n",
        "Filtered (non-empty and valid translations) - BLEU score: 7.8421801129838675, chrF score: 36.59685268728821\n",
        "\n",
        "((7.8421801129838675, 36.40565274349136),\n",
        " (7.8421801129838675, 36.59685268728821))"
      ],
      "metadata": {
        "id": "0g6Mn8DkNjXF"
      }
    },
    {
      "cell_type": "markdown",
      "source": [
        "Below is just for a separate evaluation from translation"
      ],
      "metadata": {
        "id": "g7d4arNFWvoq"
      }
    },
    {
      "cell_type": "code",
      "source": [
        "def evaluate_translations(input_csv_path, output_file_path):\n",
        "    original_sentences = []\n",
        "    translated_sentences = []\n",
        "    original_sentences_filtered = []\n",
        "    translated_sentences_filtered = []\n",
        "\n",
        "    with open(input_csv_path, 'r', encoding='utf-8') as read_file:\n",
        "        csv_reader = csv.reader(read_file)\n",
        "\n",
        "        for line in csv_reader:\n",
        "            reference_translation = line[1].strip()\n",
        "            model_translation = line[2].strip()\n",
        "\n",
        "            # Add to lists for all translations (treating 'Translation not available' as empty string)\n",
        "            original_sentences.append(reference_translation)\n",
        "            translated_sentences.append(model_translation if model_translation and model_translation != 'Translation not available' else '')\n",
        "\n",
        "            # Add to lists for non-empty and not 'Translation not available' translations\n",
        "            if model_translation and model_translation != 'Translation not available':\n",
        "                original_sentences_filtered.append(reference_translation)\n",
        "                translated_sentences_filtered.append(model_translation)\n",
        "\n",
        "    # Calculate BLEU and chrF scores for all translations\n",
        "    bleu_score_all = corpus_bleu(translated_sentences, [original_sentences]).score\n",
        "    chrf_score_all = corpus_chrf(translated_sentences, [original_sentences]).score\n",
        "\n",
        "    # Calculate BLEU and chrF scores for non-empty and not 'Translation not available' translations\n",
        "    bleu_score_filtered = corpus_bleu(translated_sentences_filtered, [original_sentences_filtered]).score if translated_sentences_filtered else 0\n",
        "    chrf_score_filtered = corpus_chrf(translated_sentences_filtered, [original_sentences_filtered]).score if translated_sentences_filtered else 0\n",
        "\n",
        "    # Write scores to a single text file\n",
        "    with open(output_file_path, 'w', encoding='utf-8') as output_file:\n",
        "        output_file.write(f\"All translations - BLEU score: {bleu_score_all}, chrF score: {chrf_score_all}\\n\")\n",
        "        output_file.write(f\"Filtered (non-empty and valid translations) - BLEU score: {bleu_score_filtered}, chrF score: {chrf_score_filtered}\\n\")\n",
        "\n",
        "    print(f\"All translations - BLEU score: {bleu_score_all}, chrF score: {chrf_score_all}\")\n",
        "    print(f\"Filtered (non-empty and valid translations) - BLEU score: {bleu_score_filtered}, chrF score: {chrf_score_filtered}\")\n",
        "\n",
        "    return (bleu_score_all, chrf_score_all), (bleu_score_filtered, chrf_score_filtered)\n",
        "\n"
      ],
      "metadata": {
        "id": "wRajmrDIHk6G"
      },
      "execution_count": null,
      "outputs": []
    },
    {
      "cell_type": "code",
      "source": [
        "evaluate_translations('gemini_osmanaga_eval.csv', 'gemini_osmanaga_results.txt')"
      ],
      "metadata": {
        "colab": {
          "base_uri": "https://localhost:8080/"
        },
        "id": "b9AgvfuWJwBT",
        "outputId": "ea4af67f-c3e7-4832-bab6-1306a7ec7953"
      },
      "execution_count": null,
      "outputs": [
        {
          "output_type": "stream",
          "name": "stdout",
          "text": [
            "All translations - BLEU score: 7.014876103281617, chrF score: 32.07380828704673\n",
            "Filtered (non-empty and valid translations) - BLEU score: 7.848347281490299, chrF score: 36.61478502594365\n"
          ]
        },
        {
          "output_type": "execute_result",
          "data": {
            "text/plain": [
              "((7.014876103281617, 32.07380828704673),\n",
              " (7.848347281490299, 36.61478502594365))"
            ]
          },
          "metadata": {},
          "execution_count": 19
        }
      ]
    },
    {
      "cell_type": "code",
      "source": [
        "evaluate_translations('gemini_osmanaga_no_safety_eval.csv', 'gemini_osmanaga_no_safety_results.txt')"
      ],
      "metadata": {
        "colab": {
          "base_uri": "https://localhost:8080/"
        },
        "id": "f9dkSx-gNRfj",
        "outputId": "6d221c76-5e68-44de-cecd-d7ac395c8a30"
      },
      "execution_count": null,
      "outputs": [
        {
          "output_type": "stream",
          "name": "stdout",
          "text": [
            "All translations - BLEU score: 7.8421801129838675, chrF score: 36.40565274349136\n",
            "Filtered (non-empty and valid translations) - BLEU score: 7.8421801129838675, chrF score: 36.59685268728821\n"
          ]
        },
        {
          "output_type": "execute_result",
          "data": {
            "text/plain": [
              "((7.8421801129838675, 36.40565274349136),\n",
              " (7.8421801129838675, 36.59685268728821))"
            ]
          },
          "metadata": {},
          "execution_count": 20
        }
      ]
    }
  ],
  "metadata": {
    "colab": {
      "provenance": []
    },
    "kernelspec": {
      "display_name": "Python 3",
      "name": "python3"
    },
    "language_info": {
      "name": "python"
    }
  },
  "nbformat": 4,
  "nbformat_minor": 0
}